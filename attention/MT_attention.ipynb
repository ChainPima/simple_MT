{
  "cells": [
    {
      "cell_type": "markdown",
      "metadata": {
        "id": "9d5cATAL-OsH"
      },
      "source": [
        "# Import library"
      ]
    },
    {
      "cell_type": "code",
      "execution_count": null,
      "metadata": {
        "id": "vTKVUV22-OsI"
      },
      "outputs": [],
      "source": [
        "import collections\n",
        "import numpy as np\n",
        "import re\n",
        "import tensorflow as tf\n",
        "\n",
        "from sklearn.model_selection import train_test_split\n",
        "\n",
        "from tensorflow.data import Dataset\n",
        "from tensorflow.train import Checkpoint\n",
        "\n",
        "from tensorflow.nn import tanh, softmax\n",
        "from keras.utils.vis_utils import plot_model\n",
        "from keras.preprocessing.text import Tokenizer\n",
        "from tensorflow.keras.preprocessing.sequence import pad_sequences\n",
        "from keras.models import Model, Sequential\n",
        "from keras.layers import Layer, GRU, Input, Dense, TimeDistributed, Activation, RepeatVector, Bidirectional, Dropout, LSTM, Embedding\n",
        "from keras.optimizers import Adam\n",
        "from keras.callbacks import EarlyStopping\n",
        "from keras.losses import sparse_categorical_crossentropy, SparseCategoricalCrossentropy"
      ]
    },
    {
      "cell_type": "markdown",
      "metadata": {
        "id": "2KBRCmVI-OsJ"
      },
      "source": [
        "# Verify access to GPU"
      ]
    },
    {
      "cell_type": "code",
      "execution_count": null,
      "metadata": {
        "colab": {
          "base_uri": "https://localhost:8080/"
        },
        "id": "oQe_JDA3-OsJ",
        "outputId": "a8e47411-9924-4c06-e0ea-a0ba5d3315a5"
      },
      "outputs": [
        {
          "output_type": "stream",
          "name": "stdout",
          "text": [
            "[name: \"/device:CPU:0\"\n",
            "device_type: \"CPU\"\n",
            "memory_limit: 268435456\n",
            "locality {\n",
            "}\n",
            "incarnation: 3048374031365375221\n",
            "xla_global_id: -1\n",
            ", name: \"/device:GPU:0\"\n",
            "device_type: \"GPU\"\n",
            "memory_limit: 14328594432\n",
            "locality {\n",
            "  bus_id: 1\n",
            "  links {\n",
            "  }\n",
            "}\n",
            "incarnation: 4284296575759941468\n",
            "physical_device_desc: \"device: 0, name: Tesla T4, pci bus id: 0000:00:04.0, compute capability: 7.5\"\n",
            "xla_global_id: 416903419\n",
            "]\n"
          ]
        }
      ],
      "source": [
        "from tensorflow.python.client import device_lib\n",
        "print(device_lib.list_local_devices())"
      ]
    },
    {
      "cell_type": "markdown",
      "metadata": {
        "id": "F9xlRWLh-OsJ"
      },
      "source": [
        "# Load data"
      ]
    },
    {
      "cell_type": "markdown",
      "source": [
        "Dataset: https://www.kaggle.com/datasets/hungnm/englishvietnamese-translation"
      ],
      "metadata": {
        "id": "rs9sPbDJICm2"
      }
    },
    {
      "cell_type": "code",
      "execution_count": null,
      "metadata": {
        "id": "wYky7j-Z-OsK"
      },
      "outputs": [],
      "source": [
        "# Load English data\n",
        "english_sentences = []\n",
        "with open('en_sents.txt', \"r\") as en_file:\n",
        "    english_sentences = en_file.read()\n",
        "english_sentences = english_sentences.split('\\n')\n",
        "en_file.close()\n",
        "\n",
        "# Load Vietnamese data\n",
        "vietnamese_sentences = []\n",
        "with open('vi_sents.txt', \"r\") as vi_file:\n",
        "    vietnamese_sentences = vi_file.read()\n",
        "vietnamese_sentences = vietnamese_sentences.split('\\n')\n",
        "vi_file.close()"
      ]
    },
    {
      "cell_type": "code",
      "execution_count": null,
      "metadata": {
        "colab": {
          "base_uri": "https://localhost:8080/"
        },
        "id": "n3OWUVfR-OsK",
        "outputId": "eab341c1-7ffa-4833-a9cd-800ef21a9c97"
      },
      "outputs": [
        {
          "output_type": "stream",
          "name": "stdout",
          "text": [
            "English sample 1:  startseq Please put the dustpan in the broom closet endseq\n",
            "Vietnamese sample 1:  startseq xin vui lòng đặt cái hót rác trong tủ chổi endseq\n",
            "\n",
            "English sample 2:  startseq Be quiet for a moment. endseq\n",
            "Vietnamese sample 2:  startseq im lặng một lát endseq\n",
            "\n",
            "English sample 3:  startseq Read this endseq\n",
            "Vietnamese sample 3:  startseq đọc này endseq\n",
            "\n",
            "English sample 4:  startseq Tom persuaded the store manager to give him back his money. endseq\n",
            "Vietnamese sample 4:  startseq tom thuyết phục người quản lý cửa hàng trả lại tiền cho anh ta. endseq\n",
            "\n",
            "English sample 5:  startseq Friendship consists of mutual understanding endseq\n",
            "Vietnamese sample 5:  startseq tình bạn bao gồm sự hiểu biết lẫn nhau endseq\n",
            "\n"
          ]
        }
      ],
      "source": [
        "for sample_i in range(5):\n",
        "    print('English sample {}:  {}'.format(sample_i + 1, english_sentences[sample_i]))\n",
        "    print('Vietnamese sample {}:  {}'.format(sample_i + 1, vietnamese_sentences[sample_i]))\n",
        "    print()"
      ]
    },
    {
      "cell_type": "markdown",
      "metadata": {
        "id": "7fcXH6kD-OsK"
      },
      "source": [
        "# Vocabulary"
      ]
    },
    {
      "cell_type": "code",
      "execution_count": null,
      "metadata": {
        "colab": {
          "base_uri": "https://localhost:8080/"
        },
        "id": "mpb2wKzt-OsK",
        "outputId": "19021af7-5bd5-4c94-f594-54b0fce0d841"
      },
      "outputs": [
        {
          "output_type": "stream",
          "name": "stdout",
          "text": [
            "2229295 English words.\n",
            "40267 unique English words.\n",
            "10 Most common words in the English dataset:\n",
            "\"startseq\" \"endseq\" \"to\" \"I\" \"the\" \"Tom\" \"a\" \"you\" \"is\" \"of\" \"in\" \"was\" \"that\" \"for\" \"have\" \"He\" \"The\" \"me\" \"be\" \"his\" \"and\" \"on\" \"with\" \"it\" \"I'm\" \"my\" \"do\" \"not\" \"this\" \"he\"\n",
            "\n",
            "2629867 Vietnamese words.\n",
            "15004 unique Vietnamese words.\n",
            "10 Most common words in the Vietnamese dataset:\n",
            "\"startseq\" \"endseq\" \"tôi\" \"bạn\" \"không\" \"có\" \"một\" \"tom\" \"đã\" \"của\" \"anh\" \"là\" \"ấy\" \"chúng\" \"sẽ\" \"thể\" \"với\" \"làm\" \"nói\" \"cho\" \"gì\" \"đó\" \"Tom\" \"Tôi\" \"ở\" \"ta\" \"đến\" \"muốn\" \"cô\" \"để\"\n"
          ]
        }
      ],
      "source": [
        "english_words_counter = collections.Counter([word for sentence in english_sentences for word in sentence.split()])\n",
        "vietnamese_words_counter = collections.Counter([word for sentence in vietnamese_sentences for word in sentence.split()])\n",
        "\n",
        "print('{} English words.'.format(len([word for sentence in english_sentences for word in sentence.split()])))\n",
        "print('{} unique English words.'.format(len(english_words_counter)))\n",
        "print('10 Most common words in the English dataset:')\n",
        "print('\"' + '\" \"'.join(list(zip(*english_words_counter.most_common(30)))[0]) + '\"')\n",
        "print()\n",
        "print('{} Vietnamese words.'.format(len([word for sentence in vietnamese_sentences for word in sentence.split()])))\n",
        "print('{} unique Vietnamese words.'.format(len(vietnamese_words_counter)))\n",
        "print('10 Most common words in the Vietnamese dataset:')\n",
        "print('\"' + '\" \"'.join(list(zip(*vietnamese_words_counter.most_common(30)))[0]) + '\"')"
      ]
    },
    {
      "cell_type": "markdown",
      "metadata": {
        "id": "rnAM5fNs-OsL"
      },
      "source": [
        "# Preprocess\n",
        "\n",
        "First, remove some special characters (.,?!\"), then add 'startseq' and 'endseq' tokens\n",
        "\n",
        "1. Tokenize the words\n",
        "2. Add padding to make all the sequences the same length\n",
        "\n",
        "Finally, create a preprocess pipeline"
      ]
    },
    {
      "cell_type": "code",
      "source": [
        "# Preprocess the sequence\n",
        "def init_preprocess(w):\n",
        "    '''\n",
        "    init_preprocess x\n",
        "    :param x: a sentence\n",
        "    :return: the preprocessed sentence\n",
        "    '''\n",
        "    # Remove the characters .\"?,!\n",
        "    w = re.sub(\"[\\.\\\"\\?\\,\\!]\", \"\", w)\n",
        "\n",
        "    # Add a start and stop token to detect the start and end of the sequence\n",
        "    w = 'startseq ' + w + ' endseq'\n",
        "\n",
        "    # Remove duplicate white space\n",
        "    w = re.sub(\"(\\s+)\", \" \", w)\n",
        "\n",
        "    # To lowercase\n",
        "    w = w.lower()\n",
        "\n",
        "    return w"
      ],
      "metadata": {
        "id": "ApLtDPYe1W6X"
      },
      "execution_count": null,
      "outputs": []
    },
    {
      "cell_type": "code",
      "source": [
        "# Demo\n",
        "str = \"I'm told   Tom, \\\"to clean his room      ?  !       \\\"\"\n",
        "print(f\"Before: {str}\")\n",
        "print(\"After: {}\".format(init_preprocess(str)))"
      ],
      "metadata": {
        "colab": {
          "base_uri": "https://localhost:8080/"
        },
        "id": "H2Xgyw-N1dXm",
        "outputId": "71c8b042-570b-4958-b4d8-4b67296486b4"
      },
      "execution_count": null,
      "outputs": [
        {
          "output_type": "stream",
          "name": "stdout",
          "text": [
            "Before: I'm told   Tom, \"to clean his room      ?  !       \"\n",
            "After: startseq i'm told tom to clean his room endseq\n"
          ]
        }
      ]
    },
    {
      "cell_type": "markdown",
      "metadata": {
        "id": "NZ80HnZB-OsL"
      },
      "source": [
        "## Tokenize"
      ]
    },
    {
      "cell_type": "code",
      "execution_count": null,
      "metadata": {
        "id": "tmlt9vcZ-OsL"
      },
      "outputs": [],
      "source": [
        "def tokenize(x):\n",
        "    '''\n",
        "    Tokenize x\n",
        "    :param x: List of sentences to be tokenized\n",
        "    :return: Tuple of (tokenized x data, tokenizer used to tokenize x)\n",
        "    '''\n",
        "    # for i in range(len(x)):\n",
        "    #     x[i] = \"startseq \" + x[i] + \" endseq\"\n",
        "    tokenizer = Tokenizer()\n",
        "    tokenizer.fit_on_texts(x)\n",
        "    return tokenizer.texts_to_sequences(x), tokenizer"
      ]
    },
    {
      "cell_type": "code",
      "execution_count": null,
      "metadata": {
        "colab": {
          "base_uri": "https://localhost:8080/"
        },
        "id": "PvnCeqky-OsL",
        "outputId": "fbfed1d3-66d6-4eb5-aaae-dae3333c4294"
      },
      "outputs": [
        {
          "output_type": "stream",
          "name": "stdout",
          "text": [
            "{'the': 1, 'quick': 2, 'a': 3, 'brown': 4, 'fox': 5, 'jumps': 6, 'over': 7, 'lazy': 8, 'dog': 9, 'by': 10, 'jove': 11, 'my': 12, 'study': 13, 'of': 14, 'lexicography': 15, 'won': 16, 'prize': 17, 'this': 18, 'is': 19, 'short': 20, 'sentence': 21} \n",
            "\n",
            "Sequence 1 in x\n",
            "     Input:  The quick brown fox jumps over the lazy dog .\n",
            "     Output: [1, 2, 4, 5, 6, 7, 1, 8, 9]\n",
            "Sequence 2 in x\n",
            "     Input:  By Jove , my quick study of lexicography won a prize .\n",
            "     Output: [10, 11, 12, 2, 13, 14, 15, 16, 3, 17]\n",
            "Sequence 3 in x\n",
            "     Input:  This is a short sentence .\n",
            "     Output: [18, 19, 3, 20, 21]\n"
          ]
        }
      ],
      "source": [
        "# Tokenizing demo\n",
        "text_sentencs = [\n",
        "    'The quick brown fox jumps over the lazy dog .',\n",
        "    'By Jove , my quick study of lexicography won a prize .',\n",
        "    'This is a short sentence .'\n",
        "]\n",
        "text_tokenized, text_tokenizer = tokenize(text_sentencs)\n",
        "print(text_tokenizer.word_index, \"\\n\")\n",
        "for sample_i, (sent, token_sent) in enumerate(zip(text_sentencs, text_tokenized)):\n",
        "    print('Sequence {} in x'.format(sample_i + 1))\n",
        "    print('     Input:  {}'.format(sent))\n",
        "    print('     Output: {}'.format(token_sent))"
      ]
    },
    {
      "cell_type": "markdown",
      "metadata": {
        "id": "Bh6P0DXY-OsL"
      },
      "source": [
        "## Padding"
      ]
    },
    {
      "cell_type": "code",
      "execution_count": null,
      "metadata": {
        "id": "1x6wVXkk-OsL"
      },
      "outputs": [],
      "source": [
        "def padding(x, length=None):\n",
        "    \"\"\"\n",
        "    Padding x\n",
        "    :param x: List of sequences.\n",
        "    :param length: Length to pad the sequence to. If None, use length of longest sequence in x.\n",
        "    :return: Padded numpy array of sequences\n",
        "    \"\"\"\n",
        "    return pad_sequences(x, maxlen=length, padding='post')"
      ]
    },
    {
      "cell_type": "code",
      "execution_count": null,
      "metadata": {
        "colab": {
          "base_uri": "https://localhost:8080/"
        },
        "id": "NP_w49Io-OsM",
        "outputId": "e1b7e423-10e8-464a-df11-c92c54975d4c"
      },
      "outputs": [
        {
          "output_type": "stream",
          "name": "stdout",
          "text": [
            "Sequence 1 in x\n",
            "     Input:  [1 2 4 5 6 7 1 8 9]\n",
            "     Output: [1 2 4 5 6 7 1 8 9 0]\n",
            "Sequence 2 in x\n",
            "     Input:  [10 11 12  2 13 14 15 16  3 17]\n",
            "     Output: [10 11 12  2 13 14 15 16  3 17]\n",
            "Sequence 3 in x\n",
            "     Input:  [18 19  3 20 21]\n",
            "     Output: [18 19  3 20 21  0  0  0  0  0]\n"
          ]
        }
      ],
      "source": [
        "# Padding demo\n",
        "test_padding = padding(text_tokenized)\n",
        "for sample_i, (token_sent, padding_sent) in enumerate(zip(text_tokenized, test_padding)):\n",
        "    print('Sequence {} in x'.format(sample_i + 1))\n",
        "    print('     Input:  {}'.format(np.array(token_sent)))\n",
        "    print('     Output: {}'.format(padding_sent))"
      ]
    },
    {
      "cell_type": "markdown",
      "metadata": {
        "id": "qipjD3dG-OsM"
      },
      "source": [
        "## Preprocess pipeline"
      ]
    },
    {
      "cell_type": "code",
      "execution_count": null,
      "metadata": {
        "id": "qGlfjLmv-OsM"
      },
      "outputs": [],
      "source": [
        "def preprocess(in_sents, out_sents):\n",
        "    in_sents = [init_preprocess(sent) for sent in in_sents]\n",
        "    out_sents = [init_preprocess(sent) for sent in out_sents]\n",
        "\n",
        "    preprocess_in, in_tokenizer = tokenize(in_sents)\n",
        "    preprocess_out, out_tokenizer = tokenize(out_sents)\n",
        "\n",
        "    preprocess_in = padding(preprocess_in)\n",
        "    preprocess_out = padding(preprocess_out)\n",
        "\n",
        "    return preprocess_in, preprocess_out, in_tokenizer, out_tokenizer"
      ]
    },
    {
      "cell_type": "code",
      "execution_count": null,
      "metadata": {
        "colab": {
          "base_uri": "https://localhost:8080/"
        },
        "id": "XQjejvhi-OsM",
        "outputId": "d2cd9c09-d97b-48c0-da18-f7444d116471"
      },
      "outputs": [
        {
          "output_type": "stream",
          "name": "stdout",
          "text": [
            "Data Preprocessed\n",
            "Max English sentence length: 49\n",
            "Max Vietnamese sentence length: 63\n",
            "English vocabulary size: 20811\n",
            "Vietnamese vocabulary size: 7083\n"
          ]
        }
      ],
      "source": [
        "preprocess_en, preprocess_vi, en_tokenizer, vi_tokenizer = preprocess(english_sentences, vietnamese_sentences)\n",
        "\n",
        "max_en_sequence_length = preprocess_en.shape[1]\n",
        "max_vi_sequence_length = preprocess_vi.shape[1]\n",
        "en_vocab_size = len(en_tokenizer.word_index) + 1 # +1 for padding token\n",
        "vi_vocab_size = len(vi_tokenizer.word_index) + 1 # +1 for padding token\n",
        "\n",
        "print('Data Preprocessed')\n",
        "print(\"Max English sentence length:\", max_en_sequence_length)\n",
        "print(\"Max Vietnamese sentence length:\", max_vi_sequence_length)\n",
        "print(\"English vocabulary size:\", en_vocab_size)\n",
        "print(\"Vietnamese vocabulary size:\", vi_vocab_size)\n",
        "\n",
        "# Split dataset into training set and validation set with ratio 8:2\n",
        "en_train, en_val, vi_train, vi_val = train_test_split(preprocess_en, preprocess_vi, test_size=0.2)"
      ]
    },
    {
      "cell_type": "code",
      "source": [
        "print(en_train.shape, en_val.shape, vi_train.shape, vi_val.shape)"
      ],
      "metadata": {
        "colab": {
          "base_uri": "https://localhost:8080/"
        },
        "id": "U3aghvklE8a0",
        "outputId": "8ca8edb3-262a-409f-a965-bccc062e1b4d"
      },
      "execution_count": null,
      "outputs": [
        {
          "output_type": "stream",
          "name": "stdout",
          "text": [
            "(203272, 49) (50818, 49) (203272, 63) (50818, 63)\n"
          ]
        }
      ]
    },
    {
      "cell_type": "markdown",
      "metadata": {
        "id": "2KEo3K_a-OsM"
      },
      "source": [
        "# Models"
      ]
    },
    {
      "cell_type": "code",
      "source": [
        "BUFFER_SIZE = len(en_train)\n",
        "BATCH_SIZE = 1024\n",
        "steps_per_epoch = BUFFER_SIZE // BATCH_SIZE\n",
        "\n",
        "embedding_dim = 200\n",
        "units = 256"
      ],
      "metadata": {
        "id": "7jrcWhwG8JEC"
      },
      "execution_count": null,
      "outputs": []
    },
    {
      "cell_type": "code",
      "source": [
        "# Create proper dataset\n",
        "dataset = Dataset.from_tensor_slices((en_train, vi_train)).shuffle(BUFFER_SIZE)\n",
        "dataset = dataset.batch(BATCH_SIZE, drop_remainder=True)"
      ],
      "metadata": {
        "id": "6SSU6wrN8ziJ"
      },
      "execution_count": null,
      "outputs": []
    },
    {
      "cell_type": "code",
      "source": [
        "# Size of input and target batches\n",
        "example_input_batch, example_target_batch = next(iter(dataset))\n",
        "example_input_batch.shape, example_target_batch.shape"
      ],
      "metadata": {
        "colab": {
          "base_uri": "https://localhost:8080/"
        },
        "id": "pz1h1KdA9lmp",
        "outputId": "b5074179-bd8c-4f1e-ca4a-3d0bae7fd04a"
      },
      "execution_count": null,
      "outputs": [
        {
          "output_type": "execute_result",
          "data": {
            "text/plain": [
              "(TensorShape([1024, 49]), TensorShape([1024, 63]))"
            ]
          },
          "metadata": {},
          "execution_count": 18
        }
      ]
    },
    {
      "cell_type": "markdown",
      "source": [
        "## Encoder class"
      ],
      "metadata": {
        "id": "WODZl18F_qzH"
      }
    },
    {
      "cell_type": "code",
      "source": [
        "# Encoder class\n",
        "class Encoder(Model):\n",
        "    def __init__(self, vocab_size, embedding_dim, enc_units, batch_size):\n",
        "        super(Encoder, self).__init__()\n",
        "        self.batch_size = batch_size\n",
        "        self.enc_units = enc_units\n",
        "\n",
        "        # Embed the vocab to a dense embedding\n",
        "        self.embedding = Embedding(vocab_size, embedding_dim)\n",
        "\n",
        "        # GRU layer\n",
        "        self.gru = GRU(self.enc_units,\n",
        "                       return_sequences=True,\n",
        "                       return_state=True,\n",
        "                       recurrent_initializer='glorot_uniform')\n",
        "\n",
        "    # Encoder network comprises an Embedding layer followed by a GRU layer\n",
        "    def call(self, x, hidden):\n",
        "        x = self.embedding(x)\n",
        "        output, state = self.gru(x, initial_state=hidden)\n",
        "        return output, state\n",
        "\n",
        "    # To initialize the hidden state\n",
        "    def initialize_hidden_state(self):\n",
        "        return tf.zeros((self.batch_size, self.enc_units))"
      ],
      "metadata": {
        "id": "iCRyQQHP97cY"
      },
      "execution_count": null,
      "outputs": []
    },
    {
      "cell_type": "code",
      "source": [
        "encoder = Encoder(en_vocab_size, embedding_dim, units, BATCH_SIZE)\n",
        "\n",
        "sample_hidden = encoder.initialize_hidden_state()\n",
        "sample_output, sample_hidden = encoder(example_input_batch, sample_hidden)\n",
        "\n",
        "print ('Encoder output shape: (batch size, sequence length, units) {}'.format(sample_output.shape))\n",
        "print ('Encoder Hidden state shape: (batch size, units) {}'.format(sample_hidden.shape))"
      ],
      "metadata": {
        "colab": {
          "base_uri": "https://localhost:8080/"
        },
        "id": "BlfxptTX_gd4",
        "outputId": "33af671c-8065-499d-a4ee-6e758fcc2ce1"
      },
      "execution_count": null,
      "outputs": [
        {
          "output_type": "stream",
          "name": "stdout",
          "text": [
            "Encoder output shape: (batch size, sequence length, units) (1024, 49, 256)\n",
            "Encoder Hidden state shape: (batch size, units) (1024, 256)\n"
          ]
        }
      ]
    },
    {
      "cell_type": "markdown",
      "source": [
        "# Attention class"
      ],
      "metadata": {
        "id": "98T_8g0b_ssX"
      }
    },
    {
      "cell_type": "code",
      "source": [
        "# Attention class - Additive Attention - a Soft Attention technique\n",
        "class AdditiveAttention(Layer):\n",
        "    def __init__(self, units):\n",
        "        super(AdditiveAttention, self).__init__()\n",
        "        self.W1 = Dense(units)\n",
        "        self.W2 = Dense(units)\n",
        "        self.V = Dense(1)\n",
        "\n",
        "    def call(self, query, values):\n",
        "        query_with_time_axis = tf.expand_dims(query, 1)\n",
        "\n",
        "        score = self.V(tanh(self.W1(query_with_time_axis) + self.W2(values)))\n",
        "\n",
        "        attention_weights = softmax(score, axis=1)\n",
        "\n",
        "        context_vector = attention_weights * values\n",
        "        context_vector = tf.reduce_sum(context_vector, axis=1)\n",
        "\n",
        "        return context_vector, attention_weights"
      ],
      "metadata": {
        "id": "Rrx_egMo_39v"
      },
      "execution_count": null,
      "outputs": []
    },
    {
      "cell_type": "code",
      "source": [
        "attention_layer = AdditiveAttention(10)\n",
        "attention_result, attention_weights = attention_layer(sample_hidden, sample_output)\n",
        "\n",
        "print(\"Attention result shape: (batch size, units) {}\".format(attention_result.shape))\n",
        "print(\"Attention weights shape: (batch_size, sequence_length, 1) {}\".format(attention_weights.shape))"
      ],
      "metadata": {
        "colab": {
          "base_uri": "https://localhost:8080/"
        },
        "id": "8rC_Zsi3BuUV",
        "outputId": "50e2f331-0049-40c7-8c33-2e6a8a195d9a"
      },
      "execution_count": null,
      "outputs": [
        {
          "output_type": "stream",
          "name": "stdout",
          "text": [
            "Attention result shape: (batch size, units) (1024, 256)\n",
            "Attention weights shape: (batch_size, sequence_length, 1) (1024, 49, 1)\n"
          ]
        }
      ]
    },
    {
      "cell_type": "markdown",
      "source": [
        "## Decoder class"
      ],
      "metadata": {
        "id": "Z_AhE7ycB18N"
      }
    },
    {
      "cell_type": "code",
      "source": [
        "# Decoder class\n",
        "class Decoder(Model):\n",
        "    def __init__(self, vocab_size, embedding_dim, dec_units, batch_size):\n",
        "        super(Decoder, self).__init__()\n",
        "        self.batch_size = batch_size\n",
        "        self.dec_units = dec_units\n",
        "        self.embedding = Embedding(vocab_size, embedding_dim)\n",
        "        self.gru = GRU(self.dec_units,\n",
        "                       return_sequences=True,\n",
        "                       return_state=True,\n",
        "                       recurrent_initializer='glorot_uniform')\n",
        "        self.fc = Dense(vocab_size)\n",
        "\n",
        "        self.attention = AdditiveAttention(self.dec_units)\n",
        "\n",
        "    def call(self, x, hidden, enc_output):\n",
        "        context_vector, attention_weights = self.attention(hidden, enc_output)\n",
        "\n",
        "        x = self.embedding(x)\n",
        "        x = tf.concat([tf.expand_dims(context_vector, 1), x], axis=-1)\n",
        "\n",
        "        output, state = self.gru(x)\n",
        "        output = tf.reshape(output, (-1, output.shape[2]))\n",
        "\n",
        "        x = self.fc(output)\n",
        "\n",
        "        return x, state, attention_weights"
      ],
      "metadata": {
        "id": "B3XnKNSmB3kF"
      },
      "execution_count": null,
      "outputs": []
    },
    {
      "cell_type": "code",
      "source": [
        "decoder = Decoder(vi_vocab_size, embedding_dim, units, BATCH_SIZE)\n",
        "\n",
        "sample_decoder_output, _, _ = decoder(tf.random.uniform((BATCH_SIZE, 1)),\n",
        "                                      sample_hidden, sample_output)\n",
        "\n",
        "print ('Decoder output shape: (batch_size, vocab size) {}'.format(sample_decoder_output.shape))"
      ],
      "metadata": {
        "colab": {
          "base_uri": "https://localhost:8080/"
        },
        "id": "LT3lCQQjDRE8",
        "outputId": "1b9f8a7d-f686-45a1-85c2-b8577fc38b94"
      },
      "execution_count": null,
      "outputs": [
        {
          "output_type": "stream",
          "name": "stdout",
          "text": [
            "Decoder output shape: (batch_size, vocab size) (1024, 7083)\n"
          ]
        }
      ]
    },
    {
      "cell_type": "markdown",
      "source": [
        "## Optimizer and Loss Functions"
      ],
      "metadata": {
        "id": "QiB7ZW3RDbT7"
      }
    },
    {
      "cell_type": "code",
      "source": [
        "# Initialize optimizer and loss functions\n",
        "optimizer = tf.keras.optimizers.Adam()\n",
        "\n",
        "loss_object = SparseCategoricalCrossentropy(from_logits=True, reduction='none')\n",
        "\n",
        "# Loss function\n",
        "def loss_function(real, pred):\n",
        "\n",
        "  # Take care of the padding. Not all sequences are of equal length.\n",
        "  # If there's a '0' in the sequence, the loss is being nullified\n",
        "  mask = tf.math.logical_not(tf.math.equal(real, 0))\n",
        "  loss_ = loss_object(real, pred)\n",
        "\n",
        "  mask = tf.cast(mask, dtype=loss_.dtype)\n",
        "  loss_ *= mask\n",
        "\n",
        "  return tf.reduce_mean(loss_)"
      ],
      "metadata": {
        "id": "osq2uuq_DZX8"
      },
      "execution_count": null,
      "outputs": []
    },
    {
      "cell_type": "code",
      "source": [
        "import os\n",
        "\n",
        "checkpoint_dir = './training_checkpoints'\n",
        "checkpoint_prefix = os.path.join(checkpoint_dir, \"ckpt\")\n",
        "checkpoint = Checkpoint(optimizer=optimizer,\n",
        "                        encoder=encoder,\n",
        "                        decoder=decoder)"
      ],
      "metadata": {
        "id": "y4abCz1JDlr0"
      },
      "execution_count": null,
      "outputs": []
    },
    {
      "cell_type": "code",
      "source": [
        "@tf.function\n",
        "def train_step(inp, targ, enc_hidden) -> float:\n",
        "  loss = 0\n",
        "\n",
        "  # tf.GradientTape() -- record operations for automatic differentiation\n",
        "  with tf.GradientTape() as tape:\n",
        "    enc_output, enc_hidden = encoder(inp, enc_hidden)\n",
        "\n",
        "    # dec_hidden is used by attention, hence is the same enc_hidden\n",
        "    dec_hidden = enc_hidden\n",
        "\n",
        "    # <start> token is the initial decoder input\n",
        "    dec_input = tf.expand_dims([vi_tokenizer.word_index['startseq']] * BATCH_SIZE, 1)\n",
        "\n",
        "    # Teacher forcing - feeding the target as the next input\n",
        "    for t in range(1, targ.shape[1]):\n",
        "\n",
        "      # Pass enc_output to the decoder\n",
        "      predictions, dec_hidden, _ = decoder(dec_input, dec_hidden, enc_output)\n",
        "\n",
        "      # Compute the loss\n",
        "      loss += loss_function(targ[:, t], predictions)\n",
        "\n",
        "      # Use teacher forcing\n",
        "      dec_input = tf.expand_dims(targ[:, t], 1)\n",
        "\n",
        "  # As this function is called per batch, compute the batch_loss\n",
        "  batch_loss = (loss / int(targ.shape[1]))\n",
        "\n",
        "  # Get the model's variables\n",
        "  variables = encoder.trainable_variables + decoder.trainable_variables\n",
        "\n",
        "  # Compute the gradients\n",
        "  gradients = tape.gradient(loss, variables)\n",
        "\n",
        "  # Update the variables of the model/network\n",
        "  optimizer.apply_gradients(zip(gradients, variables))\n",
        "\n",
        "  return batch_loss"
      ],
      "metadata": {
        "id": "faC4YeZ2D3H8"
      },
      "execution_count": null,
      "outputs": []
    },
    {
      "cell_type": "code",
      "source": [
        "import time\n",
        "\n",
        "EPOCHS = 10\n",
        "\n",
        "# Training loop\n",
        "for epoch in range(EPOCHS):\n",
        "  start = time.time()\n",
        "\n",
        "  # Initialize the hidden state\n",
        "  enc_hidden = encoder.initialize_hidden_state()\n",
        "  total_loss = 0\n",
        "\n",
        "  # Loop through the dataset\n",
        "  for (batch, (inp, targ)) in enumerate(dataset.take(steps_per_epoch)):\n",
        "\n",
        "    # Call the train method\n",
        "    batch_loss = train_step(inp, targ, enc_hidden)\n",
        "\n",
        "    # Compute the loss (per batch)\n",
        "    total_loss += batch_loss\n",
        "\n",
        "    if batch % 100 == 0:\n",
        "      print('Epoch {} Batch {} Loss {:.4f}'.format(epoch + 1,\n",
        "                                                   batch,\n",
        "                                                   batch_loss.numpy()))\n",
        "  # Save (checkpoint) the model every 2 epochs\n",
        "  if (epoch + 1) % 2 == 0:\n",
        "    checkpoint.save(file_prefix = checkpoint_prefix)\n",
        "\n",
        "  # Output the loss observed until that epoch\n",
        "  print('Epoch {} Loss {:.4f}'.format(epoch + 1,\n",
        "                                      total_loss / steps_per_epoch))\n",
        "\n",
        "  print('Time taken for 1 epoch {} sec\\n'.format(time.time() - start))"
      ],
      "metadata": {
        "id": "14oH664uEB6M",
        "colab": {
          "base_uri": "https://localhost:8080/"
        },
        "outputId": "c919a1b5-753b-48be-bef8-f40dd544a34e"
      },
      "execution_count": null,
      "outputs": [
        {
          "output_type": "stream",
          "name": "stdout",
          "text": [
            "Epoch 1 Batch 0 Loss 1.3241\n",
            "Epoch 1 Batch 100 Loss 0.8436\n",
            "Epoch 1 Loss 0.8496\n",
            "Time taken for 1 epoch 303.27122163772583 sec\n",
            "\n",
            "Epoch 2 Batch 0 Loss 0.7606\n",
            "Epoch 2 Batch 100 Loss 0.6997\n",
            "Epoch 2 Loss 0.7210\n",
            "Time taken for 1 epoch 216.31064009666443 sec\n",
            "\n",
            "Epoch 3 Batch 0 Loss 0.6850\n",
            "Epoch 3 Batch 100 Loss 0.6186\n",
            "Epoch 3 Loss 0.6441\n",
            "Time taken for 1 epoch 216.55352091789246 sec\n",
            "\n",
            "Epoch 4 Batch 0 Loss 0.6090\n",
            "Epoch 4 Batch 100 Loss 0.5759\n",
            "Epoch 4 Loss 0.5727\n",
            "Time taken for 1 epoch 216.1922471523285 sec\n",
            "\n",
            "Epoch 5 Batch 0 Loss 0.5452\n",
            "Epoch 5 Batch 100 Loss 0.5126\n",
            "Epoch 5 Loss 0.5063\n",
            "Time taken for 1 epoch 215.40947937965393 sec\n",
            "\n",
            "Epoch 6 Batch 0 Loss 0.4509\n",
            "Epoch 6 Batch 100 Loss 0.4283\n",
            "Epoch 6 Loss 0.4273\n",
            "Time taken for 1 epoch 216.02438163757324 sec\n",
            "\n",
            "Epoch 7 Batch 0 Loss 0.3759\n",
            "Epoch 7 Batch 100 Loss 0.3500\n",
            "Epoch 7 Loss 0.3516\n",
            "Time taken for 1 epoch 215.4960105419159 sec\n",
            "\n",
            "Epoch 8 Batch 0 Loss 0.3019\n",
            "Epoch 8 Batch 100 Loss 0.2839\n",
            "Epoch 8 Loss 0.2871\n",
            "Time taken for 1 epoch 215.48630356788635 sec\n",
            "\n",
            "Epoch 9 Batch 0 Loss 0.2652\n",
            "Epoch 9 Batch 100 Loss 0.2352\n",
            "Epoch 9 Loss 0.2416\n",
            "Time taken for 1 epoch 215.54145002365112 sec\n",
            "\n",
            "Epoch 10 Batch 0 Loss 0.2110\n",
            "Epoch 10 Batch 100 Loss 0.2123\n",
            "Epoch 10 Loss 0.2071\n",
            "Time taken for 1 epoch 216.3010494709015 sec\n",
            "\n"
          ]
        }
      ]
    },
    {
      "cell_type": "markdown",
      "source": [
        "# Test the model"
      ],
      "metadata": {
        "id": "GxvuPviMZq1V"
      }
    },
    {
      "cell_type": "code",
      "source": [
        "def evaluate(sentence):\n",
        "    attention_plot = np.zeros((max_vi_sequence_length, max_en_sequence_length))\n",
        "\n",
        "    inputs = [en_tokenizer.word_index[i] for i in sentence.split(' ')]\n",
        "    inputs = pad_sequences([inputs], maxlen=max_en_sequence_length, padding='post')\n",
        "    inputs = tf.convert_to_tensor(inputs)\n",
        "\n",
        "    result = ''\n",
        "\n",
        "    hidden = [tf.zeros((1, units))]\n",
        "    encoder_out, encoder_hidden = encoder(inputs, hidden)\n",
        "\n",
        "    decoder_hidden = encoder_hidden\n",
        "    decoder_input = tf.expand_dims([vi_tokenizer.word_index['startseq']], 0)\n",
        "\n",
        "    for t in range(max_vi_sequence_length):\n",
        "        predictions, decoder_hidden, attention_weights = decoder(decoder_input, decoder_hidden, encoder_out)\n",
        "\n",
        "        # Store the attention weights to plot later on\n",
        "        attention_weights = tf.reshape(attention_weights, (-1, ))\n",
        "        attention_plot[t] = attention_weights.numpy()\n",
        "\n",
        "        # Get the prediction with the maximum attention\n",
        "        predicted_id = tf.argmax(predictions[0]).numpy()\n",
        "\n",
        "        # If <end> token is reached, return the result, input, and attention plot\n",
        "        if vi_tokenizer.index_word[predicted_id] == 'endseq':\n",
        "            return result, sentence, attention_plot\n",
        "\n",
        "        # Append the token to the result\n",
        "        result += vi_tokenizer.index_word[predicted_id] + ' '\n",
        "\n",
        "        # The predicted ID is fed back into the model\n",
        "        decoder_input = tf.expand_dims([predicted_id], 0)\n",
        "\n",
        "    return result, sentence, attention_plot"
      ],
      "metadata": {
        "id": "45QqD4nXZy5M"
      },
      "execution_count": null,
      "outputs": []
    },
    {
      "cell_type": "markdown",
      "source": [
        "# Plot and Predict"
      ],
      "metadata": {
        "id": "GbZZle3ic9-b"
      }
    },
    {
      "cell_type": "code",
      "source": [
        "import matplotlib.pyplot as plt\n",
        "import matplotlib.ticker as ticker\n",
        "\n",
        "# Function for plotting the attention weights\n",
        "def plot_attention(attention, sentence, predicted_sentence):\n",
        "    fig = plt.figure(figsize=(10,10))\n",
        "    ax = fig.add_subplot(1, 1, 1)\n",
        "    ax.matshow(attention, cmap='viridis')\n",
        "\n",
        "    fontdict = {'fontsize': 14}\n",
        "\n",
        "    ax.set_xticklabels([''] + sentence, fontdict=fontdict, rotation=90)\n",
        "    ax.set_yticklabels([''] + predicted_sentence, fontdict=fontdict)\n",
        "\n",
        "    ax.xaxis.set_major_locator(ticker.MultipleLocator(1))\n",
        "    ax.yaxis.set_major_locator(ticker.MultipleLocator(1))\n",
        "\n",
        "    plt.show()"
      ],
      "metadata": {
        "id": "LNAwSJpKc_np"
      },
      "execution_count": null,
      "outputs": []
    },
    {
      "cell_type": "code",
      "source": [
        "# Translate function (which internally calls the evaluate function)\n",
        "def translate(sentence):\n",
        "    result, sentence, attention_plot = evaluate(sentence)\n",
        "\n",
        "    print('Input: %s' % (sentence))\n",
        "    print('Predicted translation: {}'.format(result))\n",
        "\n",
        "    attention_plot = attention_plot[:len(result.split(' ')), :len(sentence.split(' '))]\n",
        "    plot_attention(attention_plot, sentence.split(' '), result.split(' '))\n",
        "\n",
        "    return result"
      ],
      "metadata": {
        "id": "iDJ6r73adFzK"
      },
      "execution_count": null,
      "outputs": []
    },
    {
      "cell_type": "code",
      "source": [
        "# Restore the latest checkpoint in checkpoint_dir\n",
        "checkpoint.restore(tf.train.latest_checkpoint(checkpoint_dir))"
      ],
      "metadata": {
        "id": "yrylo-_7eRhZ",
        "colab": {
          "base_uri": "https://localhost:8080/"
        },
        "outputId": "b5c134dd-b9d6-4c90-d405-ab2dc6b7e2f2"
      },
      "execution_count": null,
      "outputs": [
        {
          "output_type": "execute_result",
          "data": {
            "text/plain": [
              "<tensorflow.python.checkpoint.checkpoint.CheckpointLoadStatus at 0x7f3f670e7970>"
            ]
          },
          "metadata": {},
          "execution_count": 30
        }
      ]
    },
    {
      "cell_type": "code",
      "source": [
        "sent = \"I am trying\"\n",
        "\n",
        "translate(init_preprocess(sent))"
      ],
      "metadata": {
        "colab": {
          "base_uri": "https://localhost:8080/",
          "height": 1000
        },
        "id": "DWUQLBWhdPHh",
        "outputId": "c49f1d0f-7096-43b8-aeb8-d82a76ff08a6"
      },
      "execution_count": null,
      "outputs": [
        {
          "output_type": "stream",
          "name": "stdout",
          "text": [
            "Input: startseq i am trying endseq\n",
            "Predicted translation: tôi đang cố gắng \n"
          ]
        },
        {
          "output_type": "stream",
          "name": "stderr",
          "text": [
            "<ipython-input-28-25f43572d771>:12: UserWarning: FixedFormatter should only be used together with FixedLocator\n",
            "  ax.set_xticklabels([''] + sentence, fontdict=fontdict, rotation=90)\n",
            "<ipython-input-28-25f43572d771>:13: UserWarning: FixedFormatter should only be used together with FixedLocator\n",
            "  ax.set_yticklabels([''] + predicted_sentence, fontdict=fontdict)\n"
          ]
        },
        {
          "output_type": "display_data",
          "data": {
            "text/plain": [
              "<Figure size 1000x1000 with 1 Axes>"
            ],
            "image/png": "[encoded data removed]"
          },
          "metadata": {}
        },
        {
          "output_type": "execute_result",
          "data": {
            "text/plain": [
              "'tôi đang cố gắng '"
            ],
            "application/vnd.google.colaboratory.intrinsic+json": {
              "type": "string"
            }
          },
          "metadata": {},
          "execution_count": 56
        }
      ]
    },
    {
      "cell_type": "markdown",
      "source": [
        "# Evaluate"
      ],
      "metadata": {
        "id": "deWJ9DwwrEMn"
      }
    },
    {
      "cell_type": "code",
      "source": [
        "from nltk.translate.bleu_score import sentence_bleu"
      ],
      "metadata": {
        "id": "UwQbQHvxrYmA"
      },
      "execution_count": null,
      "outputs": []
    },
    {
      "cell_type": "code",
      "source": [
        "sentence = en_sentences[0]\n",
        "truth_translated_sentence = vi_sentences[0]\n",
        "predict_translated_sentence = translate(sentence.lower())\n",
        "\n",
        "print('Input: {}'.format(sentence))\n",
        "print('Truth Translation: {}'.format(truth_translated_sentence))\n",
        "print('Predicted Translation: {}'.format(predict_translated_sentence))\n",
        "print('BLEU Score: {}'.format(sentence_bleu([truth_translated_sentence.split()], predict_translated_sentence.split())))"
      ],
      "metadata": {
        "colab": {
          "base_uri": "https://localhost:8080/",
          "height": 1000
        },
        "id": "Gpat_WNZq-WY",
        "outputId": "2eb06950-2ee6-4fde-b608-03a6cb49b0e2"
      },
      "execution_count": null,
      "outputs": [
        {
          "output_type": "stream",
          "name": "stdout",
          "text": [
            "Input: startseq please put the dustpan in the broom closet endseq\n",
            "Predicted translation: xin vui lòng đặt cái cà phê trong tủ quần áo \n"
          ]
        },
        {
          "output_type": "stream",
          "name": "stderr",
          "text": [
            "<ipython-input-4-25f43572d771>:12: UserWarning: FixedFormatter should only be used together with FixedLocator\n",
            "  ax.set_xticklabels([''] + sentence, fontdict=fontdict, rotation=90)\n",
            "<ipython-input-4-25f43572d771>:13: UserWarning: FixedFormatter should only be used together with FixedLocator\n",
            "  ax.set_yticklabels([''] + predicted_sentence, fontdict=fontdict)\n"
          ]
        },
        {
          "output_type": "display_data",
          "data": {
            "text/plain": [
              "<Figure size 1000x1000 with 1 Axes>"
            ],
            "image/png": "[encoded data removed]"
          },
          "metadata": {}
        },
        {
          "output_type": "stream",
          "name": "stdout",
          "text": [
            "Input: Please put the dustpan in the broom closet\n",
            "Truth Translation: xin vui lòng đặt cái hót rác trong tủ chổi\n",
            "Predicted Translation: xin vui lòng đặt cái cà phê trong tủ quần áo \n",
            "BLEU Score: 0.40352786374639904\n"
          ]
        }
      ]
    }
  ],
  "metadata": {
    "kernelspec": {
      "display_name": "Python 3",
      "name": "python3"
    },
    "language_info": {
      "codemirror_mode": {
        "name": "ipython",
        "version": 3
      },
      "file_extension": ".py",
      "mimetype": "text/x-python",
      "name": "python",
      "nbconvert_exporter": "python",
      "pygments_lexer": "ipython3",
      "version": "3.6.13"
    },
    "orig_nbformat": 4,
    "colab": {
      "provenance": [],
      "gpuType": "T4"
    },
    "accelerator": "GPU"
  },
  "nbformat": 4,
  "nbformat_minor": 0
}