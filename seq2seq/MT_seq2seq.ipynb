{
  "cells": [
    {
      "cell_type": "markdown",
      "metadata": {
        "id": "9d5cATAL-OsH"
      },
      "source": [
        "# Import library"
      ]
    },
    {
      "cell_type": "code",
      "execution_count": null,
      "metadata": {
        "id": "vTKVUV22-OsI"
      },
      "outputs": [],
      "source": [
        "import collections\n",
        "import re\n",
        "import numpy as np\n",
        "\n",
        "from keras.utils.vis_utils import plot_model\n",
        "from keras.preprocessing.text import Tokenizer\n",
        "from tensorflow.keras.preprocessing.sequence import pad_sequences\n",
        "from keras.models import Model, Sequential\n",
        "from keras.layers import GRU, Input, Dense, TimeDistributed, Activation, RepeatVector, Bidirectional, Dropout, LSTM, Embedding\n",
        "from keras.optimizers import Adam\n",
        "from keras.callbacks import EarlyStopping\n",
        "from keras.losses import sparse_categorical_crossentropy\n",
        "from tensorflow.keras.saving import load_model"
      ]
    },
    {
      "cell_type": "markdown",
      "metadata": {
        "id": "2KBRCmVI-OsJ"
      },
      "source": [
        "# Verify access to GPU"
      ]
    },
    {
      "cell_type": "code",
      "execution_count": null,
      "metadata": {
        "colab": {
          "base_uri": "https://localhost:8080/"
        },
        "id": "oQe_JDA3-OsJ",
        "outputId": "cfb9c961-ff3c-4c5e-f631-d0e263116ae8"
      },
      "outputs": [
        {
          "output_type": "stream",
          "name": "stdout",
          "text": [
            "[name: \"/device:CPU:0\"\n",
            "device_type: \"CPU\"\n",
            "memory_limit: 268435456\n",
            "locality {\n",
            "}\n",
            "incarnation: 2024635792983205846\n",
            "xla_global_id: -1\n",
            ", name: \"/device:GPU:0\"\n",
            "device_type: \"GPU\"\n",
            "memory_limit: 14328594432\n",
            "locality {\n",
            "  bus_id: 1\n",
            "  links {\n",
            "  }\n",
            "}\n",
            "incarnation: 8732754164451127003\n",
            "physical_device_desc: \"device: 0, name: Tesla T4, pci bus id: 0000:00:04.0, compute capability: 7.5\"\n",
            "xla_global_id: 416903419\n",
            "]\n"
          ]
        }
      ],
      "source": [
        "from tensorflow.python.client import device_lib\n",
        "print(device_lib.list_local_devices())"
      ]
    },
    {
      "cell_type": "markdown",
      "metadata": {
        "id": "F9xlRWLh-OsJ"
      },
      "source": [
        "# Load data"
      ]
    },
    {
      "cell_type": "markdown",
      "source": [
        "Dataset: https://www.kaggle.com/datasets/hungnm/englishvietnamese-translation"
      ],
      "metadata": {
        "id": "rs9sPbDJICm2"
      }
    },
    {
      "cell_type": "code",
      "execution_count": null,
      "metadata": {
        "id": "wYky7j-Z-OsK"
      },
      "outputs": [],
      "source": [
        "# Load English data\n",
        "english_sentences = []\n",
        "with open('en_sents.txt', \"r\") as en_file:\n",
        "    english_sentences = en_file.read()\n",
        "english_sentences = english_sentences.split('\\n')\n",
        "en_file.close()\n",
        "\n",
        "# Load Vietnamese data\n",
        "vietnamese_sentences = []\n",
        "with open('vi_sents.txt', \"r\") as vi_file:\n",
        "    vietnamese_sentences = vi_file.read()\n",
        "vietnamese_sentences = vietnamese_sentences.split('\\n')\n",
        "vi_file.close()"
      ]
    },
    {
      "cell_type": "code",
      "execution_count": null,
      "metadata": {
        "colab": {
          "base_uri": "https://localhost:8080/"
        },
        "id": "n3OWUVfR-OsK",
        "outputId": "470cf6a5-57d6-4630-acfc-f81cef1cd731"
      },
      "outputs": [
        {
          "output_type": "stream",
          "name": "stdout",
          "text": [
            "English sample 1:  Please put the dustpan in the broom closet\n",
            "Vietnamese sample 1:  startseq xin vui lòng đặt cái hót rác trong tủ chổi endseq\n",
            "\n",
            "English sample 2:  Be quiet for a moment.\n",
            "Vietnamese sample 2:  startseq im lặng một lát endseq\n",
            "\n",
            "English sample 3:  Read this\n",
            "Vietnamese sample 3:  startseq đọc này endseq\n",
            "\n",
            "English sample 4:  Tom persuaded the store manager to give him back his money.\n",
            "Vietnamese sample 4:  startseq tom thuyết phục người quản lý cửa hàng trả lại tiền cho anh ta. endseq\n",
            "\n",
            "English sample 5:  Friendship consists of mutual understanding\n",
            "Vietnamese sample 5:  startseq tình bạn bao gồm sự hiểu biết lẫn nhau endseq\n",
            "\n"
          ]
        }
      ],
      "source": [
        "for sample_i in range(5):\n",
        "    print('English sample {}:  {}'.format(sample_i + 1, english_sentences[sample_i]))\n",
        "    print('Vietnamese sample {}:  {}'.format(sample_i + 1, vietnamese_sentences[sample_i]))\n",
        "    print()"
      ]
    },
    {
      "cell_type": "markdown",
      "metadata": {
        "id": "7fcXH6kD-OsK"
      },
      "source": [
        "# Vocabulary"
      ]
    },
    {
      "cell_type": "code",
      "execution_count": null,
      "metadata": {
        "colab": {
          "base_uri": "https://localhost:8080/"
        },
        "id": "mpb2wKzt-OsK",
        "outputId": "f60df6f0-778a-429d-8c5b-d627d4ec5578"
      },
      "outputs": [
        {
          "output_type": "stream",
          "name": "stdout",
          "text": [
            "1721115 English words.\n",
            "40265 unique English words.\n",
            "10 Most common words in the English dataset:\n",
            "\"to\" \"I\" \"the\" \"Tom\" \"a\" \"you\" \"is\" \"of\" \"in\" \"was\"\n",
            "\n",
            "2629867 Vietnamese words.\n",
            "15004 unique Vietnamese words.\n",
            "10 Most common words in the Vietnamese dataset:\n",
            "\"startseq\" \"endseq\" \"tôi\" \"bạn\" \"không\" \"có\" \"một\" \"tom\" \"đã\" \"của\"\n"
          ]
        }
      ],
      "source": [
        "english_words_counter = collections.Counter([word for sentence in english_sentences for word in sentence.split()])\n",
        "vietnamese_words_counter = collections.Counter([word for sentence in vietnamese_sentences for word in sentence.split()])\n",
        "\n",
        "print('{} English words.'.format(len([word for sentence in english_sentences for word in sentence.split()])))\n",
        "print('{} unique English words.'.format(len(english_words_counter)))\n",
        "print('10 Most common words in the English dataset:')\n",
        "print('\"' + '\" \"'.join(list(zip(*english_words_counter.most_common(10)))[0]) + '\"')\n",
        "print()\n",
        "print('{} Vietnamese words.'.format(len([word for sentence in vietnamese_sentences for word in sentence.split()])))\n",
        "print('{} unique Vietnamese words.'.format(len(vietnamese_words_counter)))\n",
        "print('10 Most common words in the Vietnamese dataset:')\n",
        "print('\"' + '\" \"'.join(list(zip(*vietnamese_words_counter.most_common(10)))[0]) + '\"')"
      ]
    },
    {
      "cell_type": "markdown",
      "metadata": {
        "id": "rnAM5fNs-OsL"
      },
      "source": [
        "# Preprocess\n",
        "\n",
        "First, remove some special characters (.,?!\"), then add 'startseq' and 'endseq' tokens\n",
        "\n",
        "1. Tokenize the words\n",
        "2. Add padding to make all the sequences the same length\n",
        "\n",
        "Finally, create a preprocess pipeline"
      ]
    },
    {
      "cell_type": "code",
      "source": [
        "# Preprocess the sequence\n",
        "def remove_special_characters(w):\n",
        "    '''\n",
        "    remove_special_characters x\n",
        "    :param x: a sentence\n",
        "    :return: the preprocessed sentence\n",
        "    '''\n",
        "    # Remove the characters .\"?,!\n",
        "    w = re.sub(\"[\\.\\\"\\?\\,\\!]\", \"\", w)\n",
        "\n",
        "    # Add a start and stop token to detect the start and end of the sequence\n",
        "    w = 'startseq ' + w + ' endseq'\n",
        "\n",
        "    # Remove duplicate white space\n",
        "    w = re.sub(\"(\\s+)\", \" \", w)\n",
        "\n",
        "    # To lowercase\n",
        "    w = w.lower()\n",
        "\n",
        "    return w"
      ],
      "metadata": {
        "id": "ApLtDPYe1W6X"
      },
      "execution_count": null,
      "outputs": []
    },
    {
      "cell_type": "code",
      "source": [
        "# Demo\n",
        "str = \"I'm told   Tom, \\\"to clean his room      ?  !       \\\"\"\n",
        "print(f\"Before: {str}\")\n",
        "print(\"After: {}\".format(preprocess_sentence(str)))"
      ],
      "metadata": {
        "id": "H2Xgyw-N1dXm"
      },
      "execution_count": null,
      "outputs": []
    },
    {
      "cell_type": "markdown",
      "metadata": {
        "id": "NZ80HnZB-OsL"
      },
      "source": [
        "## Tokenize"
      ]
    },
    {
      "cell_type": "code",
      "execution_count": null,
      "metadata": {
        "id": "tmlt9vcZ-OsL"
      },
      "outputs": [],
      "source": [
        "def tokenize(x):\n",
        "    '''\n",
        "    Tokenize x\n",
        "    :param x: List of sentences to be tokenized\n",
        "    :return: Tuple of (tokenized x data, tokenizer used to tokenize x)\n",
        "    '''\n",
        "    # for i in range(len(x)):\n",
        "    #     x[i] = \"startseq \" + x[i] + \" endseq\"\n",
        "    tokenizer = Tokenizer()\n",
        "    tokenizer.fit_on_texts(x)\n",
        "    return tokenizer.texts_to_sequences(x), tokenizer"
      ]
    },
    {
      "cell_type": "code",
      "execution_count": null,
      "metadata": {
        "colab": {
          "base_uri": "https://localhost:8080/"
        },
        "id": "PvnCeqky-OsL",
        "outputId": "b8e60957-b58c-47ab-dbda-2152c09752ff"
      },
      "outputs": [
        {
          "output_type": "stream",
          "name": "stdout",
          "text": [
            "{'the': 1, 'quick': 2, 'a': 3, 'brown': 4, 'fox': 5, 'jumps': 6, 'over': 7, 'lazy': 8, 'dog': 9, 'by': 10, 'jove': 11, 'my': 12, 'study': 13, 'of': 14, 'lexicography': 15, 'won': 16, 'prize': 17, 'this': 18, 'is': 19, 'short': 20, 'sentence': 21} \n",
            "\n",
            "Sequence 1 in x\n",
            "     Input:  The quick brown fox jumps over the lazy dog .\n",
            "     Output: [1, 2, 4, 5, 6, 7, 1, 8, 9]\n",
            "Sequence 2 in x\n",
            "     Input:  By Jove , my quick study of lexicography won a prize .\n",
            "     Output: [10, 11, 12, 2, 13, 14, 15, 16, 3, 17]\n",
            "Sequence 3 in x\n",
            "     Input:  This is a short sentence .\n",
            "     Output: [18, 19, 3, 20, 21]\n"
          ]
        }
      ],
      "source": [
        "# Tokenizing demo\n",
        "text_sentencs = [\n",
        "    'The quick brown fox jumps over the lazy dog .',\n",
        "    'By Jove , my quick study of lexicography won a prize .',\n",
        "    'This is a short sentence .'\n",
        "]\n",
        "text_tokenized, text_tokenizer = tokenize(text_sentencs)\n",
        "print(text_tokenizer.word_index, \"\\n\")\n",
        "for sample_i, (sent, token_sent) in enumerate(zip(text_sentencs, text_tokenized)):\n",
        "    print('Sequence {} in x'.format(sample_i + 1))\n",
        "    print('     Input:  {}'.format(sent))\n",
        "    print('     Output: {}'.format(token_sent))"
      ]
    },
    {
      "cell_type": "markdown",
      "metadata": {
        "id": "Bh6P0DXY-OsL"
      },
      "source": [
        "## Padding"
      ]
    },
    {
      "cell_type": "code",
      "execution_count": null,
      "metadata": {
        "id": "1x6wVXkk-OsL"
      },
      "outputs": [],
      "source": [
        "def padding(x, length=None):\n",
        "    \"\"\"\n",
        "    Padding x\n",
        "    :param x: List of sequences.\n",
        "    :param length: Length to pad the sequence to. If None, use length of longest sequence in x.\n",
        "    :return: Padded numpy array of sequences\n",
        "    \"\"\"\n",
        "    return pad_sequences(x, maxlen=length, padding='post')"
      ]
    },
    {
      "cell_type": "code",
      "execution_count": null,
      "metadata": {
        "colab": {
          "base_uri": "https://localhost:8080/"
        },
        "id": "NP_w49Io-OsM",
        "outputId": "b4bba6b8-537b-4179-c8c3-2f02090f91a5"
      },
      "outputs": [
        {
          "output_type": "stream",
          "name": "stdout",
          "text": [
            "Sequence 1 in x\n",
            "     Input:  [1 2 4 5 6 7 1 8 9]\n",
            "     Output: [1 2 4 5 6 7 1 8 9 0]\n",
            "Sequence 2 in x\n",
            "     Input:  [10 11 12  2 13 14 15 16  3 17]\n",
            "     Output: [10 11 12  2 13 14 15 16  3 17]\n",
            "Sequence 3 in x\n",
            "     Input:  [18 19  3 20 21]\n",
            "     Output: [18 19  3 20 21  0  0  0  0  0]\n"
          ]
        }
      ],
      "source": [
        "# Padding demo\n",
        "test_padding = padding(text_tokenized)\n",
        "for sample_i, (token_sent, padding_sent) in enumerate(zip(text_tokenized, test_padding)):\n",
        "    print('Sequence {} in x'.format(sample_i + 1))\n",
        "    print('     Input:  {}'.format(np.array(token_sent)))\n",
        "    print('     Output: {}'.format(padding_sent))"
      ]
    },
    {
      "cell_type": "markdown",
      "metadata": {
        "id": "qipjD3dG-OsM"
      },
      "source": [
        "## Preprocess pipeline"
      ]
    },
    {
      "cell_type": "code",
      "execution_count": null,
      "metadata": {
        "id": "qGlfjLmv-OsM"
      },
      "outputs": [],
      "source": [
        "def preprocess(in_sents, out_sents):\n",
        "    in_sents = [remove_special_characters(sent) for sent in in_sents]\n",
        "    out_sents = [remove_special_characters(sent) for sent in out_sents]\n",
        "\n",
        "    preprocess_in, in_tokenizer = tokenize(in_sents)\n",
        "    preprocess_out, out_tokenizer = tokenize(out_sents)\n",
        "\n",
        "    preprocess_in = padding(preprocess_in)\n",
        "    preprocess_out = padding(preprocess_out)\n",
        "\n",
        "    return preprocess_in, preprocess_out, in_tokenizer, out_tokenizer"
      ]
    },
    {
      "cell_type": "code",
      "execution_count": null,
      "metadata": {
        "colab": {
          "base_uri": "https://localhost:8080/"
        },
        "id": "XQjejvhi-OsM",
        "outputId": "0b07b1ef-440b-4b56-cbba-a133b789a6cc"
      },
      "outputs": [
        {
          "output_type": "stream",
          "name": "stdout",
          "text": [
            "Data Preprocessed\n",
            "Max English sentence length: 47\n",
            "Max Vietnamese sentence length: 63\n",
            "English vocabulary size: 20809\n",
            "Vietnamese vocabulary size: 7083\n"
          ]
        }
      ],
      "source": [
        "preprocess_en, preprocess_vi, en_tokenizer, vi_tokenizer = preprocess(english_sentences, vietnamese_sentences)\n",
        "\n",
        "max_en_sequence_length = preprocess_en.shape[1]\n",
        "max_vi_sequence_length = preprocess_vi.shape[1]\n",
        "en_vocab_size = len(en_tokenizer.word_index) + 1 # +1 for padding token\n",
        "vi_vocab_size = len(vi_tokenizer.word_index) + 1 # +1 for padding token\n",
        "\n",
        "print('Data Preprocessed')\n",
        "print(\"Max English sentence length:\", max_en_sequence_length)\n",
        "print(\"Max Vietnamese sentence length:\", max_vi_sequence_length)\n",
        "print(\"English vocabulary size:\", en_vocab_size)\n",
        "print(\"Vietnamese vocabulary size:\", vi_vocab_size)"
      ]
    },
    {
      "cell_type": "markdown",
      "metadata": {
        "id": "2KEo3K_a-OsM"
      },
      "source": [
        "# Models"
      ]
    },
    {
      "cell_type": "code",
      "source": [
        "embedding_dim = 200\n",
        "latent_dim = 256\n",
        "\n",
        "# Encoder Input layer\n",
        "encoder_inputs = Input(shape=(max_en_sequence_length, ))\n",
        "\n",
        "# Encoder Embedding layer\n",
        "encoder_embedding = Embedding(en_vocab_size, embedding_dim, trainable=True)(encoder_inputs)\n",
        "\n",
        "# Encoder LSTM layer\n",
        "encoder_lstm = LSTM(latent_dim, return_state=True, return_sequences=True, dropout=0.4, recurrent_dropout=0.4)\n",
        "(encoder_outputs, state_h, state_c) = encoder_lstm(encoder_embedding)\n",
        "\n",
        "# Decoder: using encoder's final state as the initial state\n",
        "decoder_inputs = Input(shape=(None, ))\n",
        "\n",
        "# Decoder Embeddign layer\n",
        "decoder_embedding_layer = Embedding(vi_vocab_size, embedding_dim, trainable=True)\n",
        "decoder_embedding = decoder_embedding_layer(decoder_inputs)\n",
        "\n",
        "# Decoder LSTM layer\n",
        "decoder_lstm = LSTM(latent_dim, return_state=True, return_sequences=True, dropout=0.4, recurrent_dropout=0.2)\n",
        "(decoder_outputs, decoder_fwd_state, decoder_back_state) = decoder_lstm(decoder_embedding, initial_state=[state_h, state_c])\n",
        "\n",
        "# Dense layer\n",
        "decoder_dense = TimeDistributed(Dense(vi_vocab_size, activation='softmax'))\n",
        "decoder_outputs = decoder_dense(decoder_outputs)"
      ],
      "metadata": {
        "colab": {
          "base_uri": "https://localhost:8080/"
        },
        "id": "lCMi67lpPsXZ",
        "outputId": "a546e82b-6753-4bd1-ca57-175f9b9e9105"
      },
      "execution_count": null,
      "outputs": [
        {
          "output_type": "stream",
          "name": "stderr",
          "text": [
            "WARNING:tensorflow:Layer lstm_2 will not use cuDNN kernels since it doesn't meet the criteria. It will use a generic GPU kernel as fallback when running on GPU.\n",
            "WARNING:tensorflow:Layer lstm_3 will not use cuDNN kernels since it doesn't meet the criteria. It will use a generic GPU kernel as fallback when running on GPU.\n"
          ]
        }
      ]
    },
    {
      "cell_type": "code",
      "source": [
        "# Define the model\n",
        "model = Model([encoder_inputs, decoder_inputs], decoder_outputs)"
      ],
      "metadata": {
        "id": "3QlZXBtAl_kM"
      },
      "execution_count": null,
      "outputs": []
    },
    {
      "cell_type": "code",
      "source": [
        "model.summary()"
      ],
      "metadata": {
        "colab": {
          "base_uri": "https://localhost:8080/"
        },
        "id": "9CRHx8JPa1eJ",
        "outputId": "4fa4ba81-b6cf-4447-aec8-c4963aaaedfd"
      },
      "execution_count": null,
      "outputs": [
        {
          "output_type": "stream",
          "name": "stdout",
          "text": [
            "Model: \"model_1\"\n",
            "__________________________________________________________________________________________________\n",
            " Layer (type)                   Output Shape         Param #     Connected to                     \n",
            "==================================================================================================\n",
            " input_3 (InputLayer)           [(None, 47)]         0           []                               \n",
            "                                                                                                  \n",
            " input_4 (InputLayer)           [(None, None)]       0           []                               \n",
            "                                                                                                  \n",
            " embedding_2 (Embedding)        (None, 47, 200)      4161800     ['input_3[0][0]']                \n",
            "                                                                                                  \n",
            " embedding_3 (Embedding)        (None, None, 200)    1416600     ['input_4[0][0]']                \n",
            "                                                                                                  \n",
            " lstm_2 (LSTM)                  [(None, 47, 256),    467968      ['embedding_2[0][0]']            \n",
            "                                 (None, 256),                                                     \n",
            "                                 (None, 256)]                                                     \n",
            "                                                                                                  \n",
            " lstm_3 (LSTM)                  [(None, None, 256),  467968      ['embedding_3[0][0]',            \n",
            "                                 (None, 256),                     'lstm_2[0][1]',                 \n",
            "                                 (None, 256)]                     'lstm_2[0][2]']                 \n",
            "                                                                                                  \n",
            " time_distributed_1 (TimeDistri  (None, None, 7083)  1820331     ['lstm_3[0][0]']                 \n",
            " buted)                                                                                           \n",
            "                                                                                                  \n",
            "==================================================================================================\n",
            "Total params: 8,334,667\n",
            "Trainable params: 8,334,667\n",
            "Non-trainable params: 0\n",
            "__________________________________________________________________________________________________\n"
          ]
        }
      ]
    },
    {
      "cell_type": "code",
      "source": [
        "plot_model(model, show_shapes=True, show_layer_names=True)"
      ],
      "metadata": {
        "colab": {
          "base_uri": "https://localhost:8080/",
          "height": 533
        },
        "id": "LvXRvPl9ZJ1i",
        "outputId": "c4b59601-6919-4acb-e4ed-91731f5c76ab"
      },
      "execution_count": null,
      "outputs": [
        {
          "output_type": "execute_result",
          "data": {
            "image/png": "[encoded data removed]",
            "text/plain": [
              "<IPython.core.display.Image object>"
            ]
          },
          "metadata": {},
          "execution_count": 24
        }
      ]
    },
    {
      "cell_type": "code",
      "source": [
        "model.compile(optimizer='rmsprop', loss='sparse_categorical_crossentropy')\n",
        "\n",
        "es = EarlyStopping(monitor='val_loss', mode='min', verbose=1, patience=2)"
      ],
      "metadata": {
        "id": "SRLkRGNUesKn"
      },
      "execution_count": null,
      "outputs": []
    },
    {
      "cell_type": "code",
      "source": [
        "history = model.fit(\n",
        "    [preprocess_en, preprocess_vi[:, :-1]],\n",
        "    preprocess_vi.reshape(preprocess_vi.shape[0], preprocess_vi.shape[1], 1)[:, 1:],\n",
        "    epochs=10,\n",
        "    callbacks=[es],\n",
        "    batch_size=1024,\n",
        "    validation_split=0.2,\n",
        ")"
      ],
      "metadata": {
        "colab": {
          "base_uri": "https://localhost:8080/"
        },
        "id": "pEo3Tdj0fE-l",
        "outputId": "cb219b13-e645-41bc-d1d4-fc0cd0263152"
      },
      "execution_count": null,
      "outputs": [
        {
          "output_type": "stream",
          "name": "stdout",
          "text": [
            "Epoch 1/10\n",
            "199/199 [==============================] - 251s 1s/step - loss: 1.2491 - val_loss: 0.8486\n",
            "Epoch 2/10\n",
            "199/199 [==============================] - 222s 1s/step - loss: 0.8307 - val_loss: 0.8243\n",
            "Epoch 3/10\n",
            "199/199 [==============================] - 223s 1s/step - loss: 0.8172 - val_loss: 0.8098\n",
            "Epoch 4/10\n",
            "199/199 [==============================] - 218s 1s/step - loss: 0.8006 - val_loss: 0.7934\n",
            "Epoch 5/10\n",
            "199/199 [==============================] - 217s 1s/step - loss: 0.7885 - val_loss: 0.7851\n",
            "Epoch 6/10\n",
            "199/199 [==============================] - 215s 1s/step - loss: 0.7806 - val_loss: 0.7793\n",
            "Epoch 7/10\n",
            "199/199 [==============================] - 215s 1s/step - loss: 0.7739 - val_loss: 0.7722\n",
            "Epoch 8/10\n",
            "199/199 [==============================] - 215s 1s/step - loss: 0.7673 - val_loss: 0.7651\n",
            "Epoch 9/10\n",
            "199/199 [==============================] - 214s 1s/step - loss: 0.7613 - val_loss: 0.7593\n",
            "Epoch 10/10\n",
            "199/199 [==============================] - 215s 1s/step - loss: 0.7565 - val_loss: 0.7554\n"
          ]
        }
      ]
    },
    {
      "cell_type": "code",
      "source": [
        "from matplotlib import pyplot\n",
        "\n",
        "pyplot.plot(history.history['loss'], label='train')\n",
        "pyplot.plot(history.history['val_loss'], label='test')\n",
        "pyplot.legend()\n",
        "pyplot.show()"
      ],
      "metadata": {
        "colab": {
          "base_uri": "https://localhost:8080/",
          "height": 430
        },
        "id": "Jqd7VieUfVx6",
        "outputId": "ff25b9cb-8506-4ce3-94db-95556e8ecd17"
      },
      "execution_count": null,
      "outputs": [
        {
          "output_type": "display_data",
          "data": {
            "text/plain": [
              "<Figure size 640x480 with 1 Axes>"
            ],
            "image/png": "[encoded data removed]"
          },
          "metadata": {}
        }
      ]
    },
    {
      "cell_type": "code",
      "source": [
        "!mkdir -p saved_model\n",
        "model.save('saved_model/seq2seq_model.h5')"
      ],
      "metadata": {
        "id": "fPdOFdHFsepl"
      },
      "execution_count": null,
      "outputs": []
    },
    {
      "cell_type": "markdown",
      "source": [
        "# Test the model"
      ],
      "metadata": {
        "id": "k3RASdcwfSMf"
      }
    },
    {
      "cell_type": "code",
      "source": [
        "model = load_model('saved_model/seq2seq_model.h5')"
      ],
      "metadata": {
        "colab": {
          "base_uri": "https://localhost:8080/"
        },
        "id": "QSChDxVOhmzH",
        "outputId": "aedd2607-3387-4093-8063-743f0ba27391"
      },
      "execution_count": null,
      "outputs": [
        {
          "output_type": "stream",
          "name": "stderr",
          "text": [
            "WARNING:tensorflow:Layer lstm_2 will not use cuDNN kernels since it doesn't meet the criteria. It will use a generic GPU kernel as fallback when running on GPU.\n",
            "WARNING:tensorflow:Layer lstm_3 will not use cuDNN kernels since it doesn't meet the criteria. It will use a generic GPU kernel as fallback when running on GPU.\n"
          ]
        }
      ]
    },
    {
      "cell_type": "code",
      "source": [
        "# Inference Models\n",
        "\n",
        "# Encode the input sequence to get the feature vector\n",
        "encoder_model = Model(inputs=encoder_inputs, outputs=[encoder_outputs,\n",
        "                      state_h, state_c])\n",
        "\n",
        "# Decoder setup\n",
        "\n",
        "# Below tensors will hold the states of the previous time step\n",
        "decoder_state_input_h = Input(shape=(latent_dim, ))\n",
        "decoder_state_input_c = Input(shape=(latent_dim, ))\n",
        "decoder_hidden_state_input = Input(shape=(max_en_sequence_length, latent_dim))\n",
        "\n",
        "# Get the embeddings of the decoder sequence\n",
        "dec_emb2 = decoder_embedding_layer(decoder_inputs)\n",
        "\n",
        "# To predict the next word in the sequence, set the initial states to the states from the previous time step\n",
        "(decoder_outputs2, state_h2, state_c2) = decoder_lstm(dec_emb2,\n",
        "        initial_state=[decoder_state_input_h, decoder_state_input_c])\n",
        "\n",
        "# A dense softmax layer to generate prob dist. over the target vocabulary\n",
        "decoder_outputs2 = decoder_dense(decoder_outputs2)\n",
        "\n",
        "# Final decoder model\n",
        "decoder_model = Model([decoder_inputs] + [decoder_hidden_state_input,\n",
        "                      decoder_state_input_h, decoder_state_input_c],\n",
        "                      [decoder_outputs2] + [state_h2, state_c2])"
      ],
      "metadata": {
        "id": "cAGYg_BwfROv"
      },
      "execution_count": null,
      "outputs": []
    },
    {
      "cell_type": "code",
      "source": [
        "def decode_sequence(input_seq):\n",
        "\n",
        "    # Encode the input as state vectors.\n",
        "    (e_out, e_h, e_c) = encoder_model.predict(input_seq)\n",
        "\n",
        "    # Generate empty target sequence of length 1\n",
        "    target_seq = np.zeros((1, 1))\n",
        "\n",
        "    # Populate the first word of target sequence with the start word.\n",
        "    target_seq[0, 0] = vi_tokenizer.word_index['startseq']\n",
        "\n",
        "    stop_condition = False\n",
        "    decoded_sentence = ''\n",
        "\n",
        "    while not stop_condition:\n",
        "        (output_tokens, h, c) = decoder_model.predict([target_seq]\n",
        "                + [e_out, e_h, e_c])\n",
        "\n",
        "        # Sample a token\n",
        "        sampled_token_index = np.argmax(output_tokens[0, -1, :])\n",
        "        sampled_token = vi_tokenizer.index_word[sampled_token_index]\n",
        "\n",
        "        if sampled_token != 'endseq':\n",
        "            decoded_sentence += ' ' + sampled_token\n",
        "\n",
        "        # Exit condition: either hit max length or find the stop word.\n",
        "        if sampled_token == 'endseq' or len(decoded_sentence.split()) >= max_vi_sequence_length - 1:\n",
        "            stop_condition = True\n",
        "\n",
        "        # Update the target sequence (of length 1)\n",
        "        target_seq = np.zeros((1, 1))\n",
        "        target_seq[0, 0] = sampled_token_index\n",
        "\n",
        "        # Update internal states\n",
        "        (e_h, e_c) = (h, c)\n",
        "\n",
        "    return decoded_sentence"
      ],
      "metadata": {
        "id": "O5mNbXzIga8p"
      },
      "execution_count": null,
      "outputs": []
    },
    {
      "cell_type": "code",
      "source": [
        "# To convert sequence to summary\n",
        "def seq2summary(input_seq):\n",
        "    newString = ''\n",
        "    for i in input_seq:\n",
        "        if i != 0 and i != vi_tokenizer.word_index['startseq'] and i != vi_tokenizer.word_index['endseq']:\n",
        "            newString = newString + vi_tokenizer.index_word[i] + ' '\n",
        "\n",
        "    return newString\n",
        "\n",
        "\n",
        "# To convert sequence to text\n",
        "def seq2text(input_seq):\n",
        "    newString = ''\n",
        "    for i in input_seq:\n",
        "        if i != 0:\n",
        "            newString = newString + en_tokenizer.index_word[i] + ' '\n",
        "\n",
        "    return newString"
      ],
      "metadata": {
        "id": "pWQkJeK0hGIv"
      },
      "execution_count": null,
      "outputs": []
    },
    {
      "cell_type": "code",
      "source": [
        "i = 344\n",
        "print('Review:', seq2text(preprocess_en[i]))\n",
        "print('Original summary:', seq2summary(preprocess_vi[i]))\n",
        "print('Predicted summary:', decode_sequence(preprocess_en[i].reshape(1, max_en_sequence_length)))\n",
        "print()"
      ],
      "metadata": {
        "colab": {
          "base_uri": "https://localhost:8080/"
        },
        "id": "h7MYCaBzhNwu",
        "outputId": "42a5eb90-faa2-42f1-8b22-ac8b40f34924"
      },
      "execution_count": null,
      "outputs": [
        {
          "output_type": "stream",
          "name": "stdout",
          "text": [
            "Review: the jewelry store is open \n",
            "Original summary: cửa hàng trang sức mở cửa \n",
            "1/1 [==============================] - 0s 79ms/step\n",
            "1/1 [==============================] - 0s 35ms/step\n",
            "1/1 [==============================] - 0s 34ms/step\n",
            "1/1 [==============================] - 0s 37ms/step\n",
            "1/1 [==============================] - 0s 23ms/step\n",
            "1/1 [==============================] - 0s 21ms/step\n",
            "1/1 [==============================] - 0s 22ms/step\n",
            "1/1 [==============================] - 0s 22ms/step\n",
            "1/1 [==============================] - 0s 21ms/step\n",
            "1/1 [==============================] - 0s 20ms/step\n",
            "1/1 [==============================] - 0s 19ms/step\n",
            "1/1 [==============================] - 0s 21ms/step\n",
            "1/1 [==============================] - 0s 21ms/step\n",
            "1/1 [==============================] - 0s 23ms/step\n",
            "1/1 [==============================] - 0s 23ms/step\n",
            "1/1 [==============================] - 0s 22ms/step\n",
            "1/1 [==============================] - 0s 20ms/step\n",
            "1/1 [==============================] - 0s 25ms/step\n",
            "1/1 [==============================] - 0s 22ms/step\n",
            "1/1 [==============================] - 0s 24ms/step\n",
            "1/1 [==============================] - 0s 23ms/step\n",
            "1/1 [==============================] - 0s 23ms/step\n",
            "1/1 [==============================] - 0s 22ms/step\n",
            "1/1 [==============================] - 0s 23ms/step\n",
            "1/1 [==============================] - 0s 29ms/step\n",
            "1/1 [==============================] - 0s 25ms/step\n",
            "1/1 [==============================] - 0s 20ms/step\n",
            "1/1 [==============================] - 0s 22ms/step\n",
            "1/1 [==============================] - 0s 23ms/step\n",
            "1/1 [==============================] - 0s 21ms/step\n",
            "1/1 [==============================] - 0s 24ms/step\n",
            "1/1 [==============================] - 0s 22ms/step\n",
            "1/1 [==============================] - 0s 23ms/step\n",
            "1/1 [==============================] - 0s 21ms/step\n",
            "1/1 [==============================] - 0s 24ms/step\n",
            "1/1 [==============================] - 0s 21ms/step\n",
            "1/1 [==============================] - 0s 25ms/step\n",
            "1/1 [==============================] - 0s 22ms/step\n",
            "1/1 [==============================] - 0s 21ms/step\n",
            "1/1 [==============================] - 0s 24ms/step\n",
            "1/1 [==============================] - 0s 21ms/step\n",
            "1/1 [==============================] - 0s 22ms/step\n",
            "1/1 [==============================] - 0s 23ms/step\n",
            "1/1 [==============================] - 0s 24ms/step\n",
            "1/1 [==============================] - 0s 21ms/step\n",
            "1/1 [==============================] - 0s 21ms/step\n",
            "1/1 [==============================] - 0s 21ms/step\n",
            "1/1 [==============================] - 0s 37ms/step\n",
            "1/1 [==============================] - 0s 21ms/step\n",
            "1/1 [==============================] - 0s 22ms/step\n",
            "1/1 [==============================] - 0s 22ms/step\n",
            "1/1 [==============================] - 0s 21ms/step\n",
            "1/1 [==============================] - 0s 27ms/step\n",
            "1/1 [==============================] - 0s 20ms/step\n",
            "1/1 [==============================] - 0s 34ms/step\n",
            "1/1 [==============================] - 0s 24ms/step\n",
            "1/1 [==============================] - 0s 24ms/step\n",
            "1/1 [==============================] - 0s 23ms/step\n",
            "1/1 [==============================] - 0s 24ms/step\n",
            "1/1 [==============================] - 0s 21ms/step\n",
            "1/1 [==============================] - 0s 27ms/step\n",
            "1/1 [==============================] - 0s 26ms/step\n",
            "1/1 [==============================] - 0s 23ms/step\n",
            "Predicted summary:  calais phì zilch calais r chuồn nhếch 35 bỏng sỹ itub võng chiba hemingway hemingway sandwiches nguồn ăn ăn toạc sakaki sakaki sakaki mê mê mê mê kaisha ozone magdalena kaisha soseki g loopy footsie 1971 bạn marika chức giương android chát vẩn sloane vẩn nhảnh nhảnh cộng gin gin 77 mọc mọc mitt dũng ryo qomolangma soprano nhỉ giương chát popsicles\n",
            "\n"
          ]
        }
      ]
    }
  ],
  "metadata": {
    "kernelspec": {
      "display_name": "Python 3",
      "name": "python3"
    },
    "language_info": {
      "codemirror_mode": {
        "name": "ipython",
        "version": 3
      },
      "file_extension": ".py",
      "mimetype": "text/x-python",
      "name": "python",
      "nbconvert_exporter": "python",
      "pygments_lexer": "ipython3",
      "version": "3.6.13"
    },
    "orig_nbformat": 4,
    "colab": {
      "provenance": [],
      "gpuType": "T4"
    },
    "accelerator": "GPU"
  },
  "nbformat": 4,
  "nbformat_minor": 0
}